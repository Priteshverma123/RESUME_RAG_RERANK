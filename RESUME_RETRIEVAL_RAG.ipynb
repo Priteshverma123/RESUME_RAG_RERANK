{
  "nbformat": 4,
  "nbformat_minor": 0,
  "metadata": {
    "colab": {
      "provenance": []
    },
    "kernelspec": {
      "name": "python3",
      "display_name": "Python 3"
    },
    "language_info": {
      "name": "python"
    }
  },
  "cells": [
    {
      "cell_type": "code",
      "execution_count": 1,
      "metadata": {
        "colab": {
          "base_uri": "https://localhost:8080/"
        },
        "id": "F3ODHKWbSgNd",
        "outputId": "819f0e89-3d72-4fd0-d665-95aedf431c9e"
      },
      "outputs": [
        {
          "output_type": "stream",
          "name": "stdout",
          "text": [
            "\u001b[2K     \u001b[90m━━━━━━━━━━━━━━━━━━━━━━━━━━━━━━━━━━━━━━━━\u001b[0m \u001b[32m227.1/227.1 kB\u001b[0m \u001b[31m1.6 MB/s\u001b[0m eta \u001b[36m0:00:00\u001b[0m\n",
            "\u001b[2K     \u001b[90m━━━━━━━━━━━━━━━━━━━━━━━━━━━━━━━━━━━━━━━━\u001b[0m \u001b[32m21.3/21.3 MB\u001b[0m \u001b[31m48.8 MB/s\u001b[0m eta \u001b[36m0:00:00\u001b[0m\n",
            "\u001b[2K     \u001b[90m━━━━━━━━━━━━━━━━━━━━━━━━━━━━━━━━━━━━━━━━\u001b[0m \u001b[32m27.0/27.0 MB\u001b[0m \u001b[31m35.8 MB/s\u001b[0m eta \u001b[36m0:00:00\u001b[0m\n",
            "\u001b[?25h"
          ]
        }
      ],
      "source": [
        "!pip install -q langchain\n",
        "!pip install -q sentence-transformers\n",
        "!pip install -q cohere\n",
        "!pip install -q langchain-huggingface\n",
        "!pip install -q rank_bm25\n",
        "!pip install -q faiss-cpu"
      ]
    },
    {
      "cell_type": "code",
      "source": [
        "from google.colab import drive\n",
        "drive.mount('/content/drive')"
      ],
      "metadata": {
        "colab": {
          "base_uri": "https://localhost:8080/"
        },
        "id": "QG7Xy4sdUuza",
        "outputId": "3dbd685e-2912-481a-fd9b-242196fd7922"
      },
      "execution_count": 2,
      "outputs": [
        {
          "output_type": "stream",
          "name": "stdout",
          "text": [
            "Mounted at /content/drive\n"
          ]
        }
      ]
    },
    {
      "cell_type": "code",
      "source": [
        "!pip install -qU langchain-text-splitters\n",
        "!pip install -qU pypdf\n",
        "!pip install -qU langchain_cohere\n",
        "!pip install -qU langchain_community"
      ],
      "metadata": {
        "colab": {
          "base_uri": "https://localhost:8080/"
        },
        "id": "atDfwwcTXlDR",
        "outputId": "5fc5d66f-d9e2-4904-cd88-910d046fc38b"
      },
      "execution_count": 3,
      "outputs": [
        {
          "output_type": "stream",
          "name": "stdout",
          "text": [
            "\u001b[2K     \u001b[90m━━━━━━━━━━━━━━━━━━━━━━━━━━━━━━━━━━━━━━━━\u001b[0m \u001b[32m290.4/290.4 kB\u001b[0m \u001b[31m2.4 MB/s\u001b[0m eta \u001b[36m0:00:00\u001b[0m\n",
            "\u001b[2K     \u001b[90m━━━━━━━━━━━━━━━━━━━━━━━━━━━━━━━━━━━━━━━━\u001b[0m \u001b[32m2.2/2.2 MB\u001b[0m \u001b[31m9.7 MB/s\u001b[0m eta \u001b[36m0:00:00\u001b[0m\n",
            "\u001b[2K     \u001b[90m━━━━━━━━━━━━━━━━━━━━━━━━━━━━━━━━━━━━━━━━\u001b[0m \u001b[32m49.2/49.2 kB\u001b[0m \u001b[31m3.2 MB/s\u001b[0m eta \u001b[36m0:00:00\u001b[0m\n",
            "\u001b[?25h"
          ]
        }
      ]
    },
    {
      "cell_type": "code",
      "source": [
        "from langchain_community.document_loaders import PyPDFLoader\n",
        "from langchain_text_splitters import RecursiveCharacterTextSplitter\n",
        "from langchain_community.embeddings import HuggingFaceInferenceAPIEmbeddings\n",
        "from langchain_community.vectorstores import FAISS\n",
        "from langchain.retrievers.contextual_compression import ContextualCompressionRetriever\n",
        "from langchain_cohere import CohereRerank\n",
        "from langchain_core.prompts import ChatPromptTemplate\n",
        "from langchain_core.output_parsers import StrOutputParser\n",
        "from langchain_core.runnables import RunnablePassthrough\n",
        "from langchain_community.retrievers import BM25Retriever\n",
        "from langchain.retrievers import EnsembleRetriever"
      ],
      "metadata": {
        "id": "7hT9K9HfUu1A"
      },
      "execution_count": 4,
      "outputs": []
    },
    {
      "cell_type": "code",
      "source": [
        "import os\n",
        "from getpass import getpass\n",
        "\n",
        "HF_token = getpass()"
      ],
      "metadata": {
        "colab": {
          "base_uri": "https://localhost:8080/"
        },
        "id": "EjGX7QQEUu4i",
        "outputId": "07df6fa8-d5b0-4bc3-adad-25600f25cca4"
      },
      "execution_count": 5,
      "outputs": [
        {
          "name": "stdout",
          "output_type": "stream",
          "text": [
            "··········\n"
          ]
        }
      ]
    },
    {
      "cell_type": "code",
      "source": [
        "os.environ['HUGGINGFACEHUB_API_TOKEN'] = HF_token"
      ],
      "metadata": {
        "id": "axmC45BMZflB"
      },
      "execution_count": 6,
      "outputs": []
    },
    {
      "cell_type": "code",
      "source": [
        "!pip install -qU  pymupdf\n",
        "from langchain_community.document_loaders import PyMuPDFLoader\n"
      ],
      "metadata": {
        "id": "E-rdL01aZfm-"
      },
      "execution_count": 17,
      "outputs": []
    },
    {
      "cell_type": "code",
      "source": [
        "data_folder=\"/content/drive/MyDrive/DATASETS/RESUMES_DATA/data/\"\n",
        "document=[]\n",
        "for file in os.listdir(data_folder):\n",
        "  # Check if the file is a PDF file\n",
        "  if file.endswith('.pdf'):\n",
        "    loader=PyMuPDFLoader(os.path.join(data_folder, file)) # Use a comma to seperate arguments in os.path.join\n",
        "    document.extend(loader.load())"
      ],
      "metadata": {
        "id": "sit54AmjZfqb"
      },
      "execution_count": 18,
      "outputs": []
    },
    {
      "cell_type": "code",
      "source": [
        "print(document[:3])\n",
        "len(document)"
      ],
      "metadata": {
        "colab": {
          "base_uri": "https://localhost:8080/"
        },
        "id": "BuELvgWQe2Th",
        "outputId": "3839ce9e-bcb7-49eb-d756-56f6dcc8329e"
      },
      "execution_count": 20,
      "outputs": [
        {
          "output_type": "stream",
          "name": "stdout",
          "text": [
            "[Document(page_content=\"CAIUS\\xa0KESSLER\\nSoftware Engineer\\nIntern\\nckessler@email.com\\n(123) 456-7890\\nSeattle, WA\\nLinkedIn\\nEDUCATION\\nB.S.\\nComputer Science\\nUniversity of Washington\\nSeptember 2020 - current\\nSeattle, WA\\nRelevant courses\\nComputer Science I and II\\nDiscrete Mathematics\\nData Structures and\\nAlgorithms\\nComputer Organization and\\nArchitecture\\nOperating Systems\\nSKILLS\\nVisual Studio\\nBitbucket\\nOracle\\nDjango\\nWindows\\nJava\\nHOBBIES\\nFood Photography\\nTravel Photography\\nVideo editing and post-\\nproduction\\nCAREER OBJECTIVE\\nHighly-driven computer science student with growing\\nknowledge in Bitbucket, Oracle, and Java, seeking a software\\nengineering internship at Microsoft. As a Microsoft Certified:\\nAzure Developer Associate, I'm ready to contribute my passion\\nand skills to help drive innovation as a global technology leader.\\nWORK EXPERIENCE\\nData Entry Specialist\\nExpedia Group\\nMay 2021 - current\\nSeattle, WA\\nProcessed and entered 1,200+ travel records per week into\\nOracle databases.\\nUtilized Java-based tools to import and export data,\\nreducing data transfer time by 34%.\\nDeveloped and deployed a Django-based web interface,\\nincreasing data accessibility for remote team by 22%.\\nGenerated data-driven insights, supporting key business\\ndecisions and driving a 6% increase in revenue.\\nGathered monthly reports on data entry metrics, helping\\nstrategic planning and resource allocation.\\nPROJECTS\\nTech Pursuit\\nCreator\\n2020 - 2021\\nDesigned a robust database architecture utilizing Oracle,\\nenhancing game performance by 38%.\\nStreamlined game development process by integrating\\nVisual Studio, reducing overall project time by 11%.\\nImplemented version control and collaboration using\\nBitbucket, leading to a 21% decrease in code conflicts.\\nEnhanced game character AI using Java, increasing positive\\nuser reviews by 29%.\\nConducted extensive playtesting and user feedback analysis\\nevery month, eliminating game bugs.\\nCERTIFICATIONS\\nMicrosoft Certified: Azure Developer Associate\\nOracle Certified Professional: Java SE 11 Developer\\n\", metadata={'source': '/content/drive/MyDrive/DATASETS/RESUMES_DATA/data/CAIUS KESSLER.pdf', 'file_path': '/content/drive/MyDrive/DATASETS/RESUMES_DATA/data/CAIUS KESSLER.pdf', 'page': 0, 'total_pages': 1, 'format': 'PDF 1.4', 'title': '', 'author': '', 'subject': '', 'keywords': '', 'creator': '', 'producer': 'PDFShift.io', 'creationDate': \"D:20230506152658+00'00'\", 'modDate': \"D:20230506152658+00'00'\", 'trapped': ''}), Document(page_content='CHARLES MCTURLAND\\nSOFTWARE ENGINEER\\nCONTACT\\ncmcturland@email.com\\n(123) 456-7890\\nNew York, NY\\nLinkedIn\\nEDUCATION\\nB.S.\\nComputer Science\\nUniversity of Pittsburgh\\nSeptember 2008 - April 2012\\nPittsburgh, PA\\nSKILLS\\nPython (Django)\\nJavascript (NodeJS ReactJS,\\njQuery)\\nSQL (MySQL, PostgreSQL,\\nNoSQL)\\nHTML5/CSS\\nAWS\\nUnix, Git\\nWORK EXPERIENCE\\nSoftware Engineer\\nEmbark\\nJanuary 2015 - current / New York, NY\\nWorked with product managers to re-architect a multi-page web\\napp into a single page web-app, boosting yearly revenue by $1.4M\\nConstructed the logic for a streamlined ad-serving platform that\\nscaled to our 35M users, which improved the page speed by 15%\\nafter implementation\\nTested software for bugs and operating speed, fixing bugs and\\ndocumenting processes to increase efficiency by 18%\\nIterated platform for college admissions, collaborating with a group\\nof 4 engineers to create features across the software\\nSoftware Engineer\\nMarketSmart\\nApril 2012 - January 2015 / Washington, DC\\nBuilt RESTful APIs that served data to the JavaScript front-end\\nbased on dynamically chosen user inputs that handled over 500,000\\nconcurrent users\\nBuilt internal tool using NodeJS and Pupeteer.js to automate QA and\\nmonitoring of donor-facing web app, which improved CTR by 3%\\nReviewed code and conducted testing for 3 additional features on\\ndonor-facing web app that increased contributions by 12%\\nSoftware Engineer Intern\\nMarketing Science Company\\nApril 2011 - March 2012 / Pittsburgh, PA\\nPartnered with a developer to implement RESTful APIs in Django,\\nenabling analytics team to increase reporting speed by 24%\\nUsing Selenium I built out a unit testing infrastructure for a client\\napplication that reduced the number of bugs reported by the client\\nby 11% month over month\\nPROJECTS\\nPoker Simulation\\nBuilt a full-stack web app to allow users to simulate and visualize\\noutcomes of poker hands against opponents of different play styles\\nusing open source cards.js on the front-end\\nUtilized sci-kit learn in Python to simulate possible outcomes under\\ndifferent scenarios that the user chose\\n', metadata={'source': '/content/drive/MyDrive/DATASETS/RESUMES_DATA/data/charles.pdf.pdf', 'file_path': '/content/drive/MyDrive/DATASETS/RESUMES_DATA/data/charles.pdf.pdf', 'page': 0, 'total_pages': 1, 'format': 'PDF 1.4', 'title': '', 'author': '', 'subject': '', 'keywords': '', 'creator': '', 'producer': 'PDFShift.io', 'creationDate': \"D:20220728182540+00'00'\", 'modDate': \"D:20220728182540+00'00'\", 'trapped': ''}), Document(page_content='GIULIA\\nGONZALEZ\\nPython Developer\\nggonzalez@email.com\\n(123) 456-7890\\nDetroit, MI\\nLinkedIn\\nGithub\\nEDUCATION\\nM.S.\\nComputer Science\\nUniversity of Chicago\\n2014 - 2016\\nChicago, IL\\nB.S.\\nComputer Science\\nUniversity of Pittsburgh\\n2010 - 2014\\nPittsburgh, PA\\nSKILLS\\nHTML/ CSS\\nSQL (PostgreSQL, Oracle)\\nJavaScript (Angular)\\nPython (Django)\\nREST APIs (GraphQL)\\nAWS (Redshift, S3)\\nGit\\nWORK EXPERIENCE\\nPython Developer\\nDoorDash\\nSeptember 2017 - current\\nDetroit, MI\\n· Worked on building new Angular components for the customer-\\nfacing web app, which improved the time on page for the\\naverage user by 2 minutes\\n· Collaborated with an agile team of 6, and helped prioritize and\\nscope feature requests to ensure that the biggest impact\\nfeatures were worked on first\\n· Built extensive test coverage for all new features, which reduced\\nthe number of customer complaints by 23%\\n· Acquired and ingested data to build and maintain data pipelines\\nthat led to discovering an opportunity for a new site feature,\\nboosting revenue by 6%\\n· Communicated with internal teams and stakeholders, working\\nto determine solutions for the user experience\\nPython Developer Intern\\nKnewton\\nApril 2016 - April 2017\\nChicago, IL\\n· Worked alongside another developer to implement RESTful APIs\\nin Django that enabled internal analytics team to increase\\nreporting speed by 24%\\n· Using Selenium, built out a unit testing infrastructure for a client\\nweb application that reduced the number of bugs reported by\\nthe client by 11% month over month\\n· Provided project updates to leadership team of 3, and offered\\nrecommendations for design\\n· Diagnosed issues causing slow speeds in applications, and\\ndocumented the process to making the database query system\\nmore robust\\n· Participated in writing scalable code with a team of 4 interns\\nand 1 developer for applications for a math course\\nPROJECTS\\nCryptocurrency Price Tracker\\nCreator\\n· Incorporated API calls to several applications, and stored data\\nefficiently in PostgreSQL backend\\n· Utilized D3.js to allow users to dynamically visualize price\\nmovements over time periods of their choosing\\n', metadata={'source': '/content/drive/MyDrive/DATASETS/RESUMES_DATA/data/GIULIA GONZALEZ.pdf', 'file_path': '/content/drive/MyDrive/DATASETS/RESUMES_DATA/data/GIULIA GONZALEZ.pdf', 'page': 0, 'total_pages': 1, 'format': 'PDF 1.4', 'title': '', 'author': '', 'subject': '', 'keywords': '', 'creator': '', 'producer': 'PDFShift.io', 'creationDate': \"D:20211008180057+00'00'\", 'modDate': \"D:20211008180057+00'00'\", 'trapped': ''})]\n"
          ]
        },
        {
          "output_type": "execute_result",
          "data": {
            "text/plain": [
              "110"
            ]
          },
          "metadata": {},
          "execution_count": 20
        }
      ]
    },
    {
      "cell_type": "code",
      "source": [
        "embeddings=HuggingFaceInferenceAPIEmbeddings(\n",
        "    api_key=HF_token,\n",
        "    model_name='BAAI/bge-base-en-v1.5'\n",
        ")"
      ],
      "metadata": {
        "id": "8MMcLxjtfVjv"
      },
      "execution_count": 21,
      "outputs": []
    },
    {
      "cell_type": "code",
      "source": [
        "vectorstore = FAISS.from_documents(document, embeddings)"
      ],
      "metadata": {
        "id": "hd8TCJAifVl_"
      },
      "execution_count": 23,
      "outputs": []
    },
    {
      "cell_type": "code",
      "source": [
        "retriever_vectordb = vectorstore.as_retriever(search_kwargs={\"k\": 5})\n",
        "keyword_retriever = BM25Retriever.from_documents(document)\n",
        "keyword_retriever.k =  5\n",
        "ensemble_retriever = EnsembleRetriever(retrievers=[retriever_vectordb,keyword_retriever],\n",
        "                                       weights=[0.5, 0.5])"
      ],
      "metadata": {
        "id": "CQ6gb-hufwrE"
      },
      "execution_count": 24,
      "outputs": []
    },
    {
      "cell_type": "code",
      "source": [
        "query=\"candidates having Linux skills\"\n",
        "docs_rel=ensemble_retriever.get_relevant_documents(query)\n",
        "docs_rel"
      ],
      "metadata": {
        "colab": {
          "base_uri": "https://localhost:8080/"
        },
        "id": "97vJITs9fwtC",
        "outputId": "17b596e8-58e1-4633-dc5d-91aecb40bd0a"
      },
      "execution_count": 25,
      "outputs": [
        {
          "output_type": "stream",
          "name": "stderr",
          "text": [
            "/usr/local/lib/python3.10/dist-packages/langchain_core/_api/deprecation.py:139: LangChainDeprecationWarning: The method `BaseRetriever.get_relevant_documents` was deprecated in langchain-core 0.1.46 and will be removed in 0.3.0. Use invoke instead.\n",
            "  warn_deprecated(\n"
          ]
        },
        {
          "output_type": "execute_result",
          "data": {
            "text/plain": [
              "[Document(page_content='     \\n                                                                  Curriculum vitae\\nName: Vinayak Vasant Ayare\\nEmail: vinayakbh12@gmail.com\\nNumber: 9029124014\\nObjective:\\nSeeking for an entry level position in the technology field that provide me an opportunity to \\ncontribute my educational skills, background, and abilities for the advancement of company.\\nProfessional Objective:\\nTo obtain a position in a leading information technology group that utilizes my skills as \\nconsistent troubleshooter with great attention to detail.\\nProfessional Experience: 2 years.\\nOrganization Name:  INGenious                                                                                                              \\nPosition:  Linux administrator\\nDuration: 30/04/2021 to Till now\\nRole and responsibilities:\\n•\\nCreate users, group as per user creation policy,\\n•\\nChange ownership of file and set permissions on file system for owner, group and \\nothers,\\n•\\nInstallation and configuration of linux OS as per client’s requirement.\\n•\\nInstallation of software and packages by using Yum server and Rpm.\\n•\\nManaging partitions and file system using (LVM) logical volume manager and \\nFdisk command.\\n•\\nAdd new partitions and logical volumes, swap to a system\\n•\\nFile system operations (create, mount, unmount and remove)\\n•\\nLinking files using hard link and soft link,\\n•\\nCreating & managing notes groups, renaming groups, deleting groups.\\n•\\nSolving password related problems of the users\\n•\\nTroubleshooting network issues.\\n•\\nHandling & proper guidance to customer.\\nKnowledge on Linux system\\n', metadata={'source': '/content/drive/MyDrive/DATASETS/RESUMES_DATA/data/Vinayak Ayare Resune Updated.pdf', 'file_path': '/content/drive/MyDrive/DATASETS/RESUMES_DATA/data/Vinayak Ayare Resune Updated.pdf', 'page': 0, 'total_pages': 3, 'format': 'PDF 1.6', 'title': '', 'author': '', 'subject': '', 'keywords': '', 'creator': 'Writer', 'producer': 'LibreOffice 7.4', 'creationDate': \"D:20240605113805Z'\", 'modDate': '', 'trapped': ''}),\n",
              " Document(page_content='•\\nGood knowledge of linux operating systems like Redhat linux, centos, \\nUbuntu.\\n•\\nInstallation, configuration, troubleshooting and administration of linux os.\\n•\\nGood knowledge of symlink and hardlink.\\n•\\nLinux process management.\\n•\\nDisk management, lvm (logical volume, volume group), file systems.\\n•\\nManaging of partitions and fs using logical volume manager fdisk.\\n•\\nFile system operations. (Create, mount, unmount and remove).\\n•\\nLinux file system troubleshooting.\\n•\\nKernel compilation as per client’s requirement.\\n•\\nBasic shell scripting.\\n•\\nUser administration (creation, modification, deletion, managing permissions).\\n•\\nGood understanding of compression and archive (tar, zip, gz,),\\n•\\nGood knowledge of permissions (chmod) and special permissions \\n(stickybit.suid.sgid) and acl.\\n•\\nGood knowledge of firewall.\\n•\\nUse and configuration of ftp, telnet, scp rsync to transfer files.\\n•\\nGood knowledge of rpm (redhat package manager) and yum.\\n•\\nBasic networking in linux.\\n•\\nConfigure DNS server, also knowledge of troubleshooting issues.\\n•\\nConfigure web server with multiple domains and troubleshooting issues, name base & \\nip base, user authentication.\\n•\\nConfigure samba server.\\n•\\nBasic knowledge of AWS & Ansible. \\nAcademic qualification:\\nM.com\\nGokhale College\\nMumbai University II Class\\n2016\\nB.com\\nGokhale College\\nMumbai University I Class\\n2013\\nHSC\\nGokhale College\\nMaharashtra State \\nBoard\\nII Class\\n2009\\nSSC\\nVidya Mandir \\nSchool, Dahisar west\\nMaharashtra State \\nBoard\\nII Class\\n2006\\nPersonal details:\\n    Date Of Birth: 11th December 1990\\n    Marital status: Married.\\n    Nationality: Indian.\\n    Languages known: English, Marathi, and Hindi.\\n', metadata={'source': '/content/drive/MyDrive/DATASETS/RESUMES_DATA/data/Vinayak Ayare Resune Updated.pdf', 'file_path': '/content/drive/MyDrive/DATASETS/RESUMES_DATA/data/Vinayak Ayare Resune Updated.pdf', 'page': 1, 'total_pages': 3, 'format': 'PDF 1.6', 'title': '', 'author': '', 'subject': '', 'keywords': '', 'creator': 'Writer', 'producer': 'LibreOffice 7.4', 'creationDate': \"D:20240605113805Z'\", 'modDate': '', 'trapped': ''}),\n",
              " Document(page_content=\"• Created hosted zones, worked with DNS traffic management policies etc in Route 53\\n• Worked with EBS, AMI's as well as EFS\\nHave good knowledge with 53 and its storage classes as well as worked with cross zone replication\\n• Workedwith SCM tool i.e. GIT and used GITHUB as remote repositories\\n• Worked with Jenkins for daily builds and deployments in Non-Prod and Prod environments\\nCreated Freestyle jobs, installed multiple plugins Worked with Docker and Docker-compose, created multiple docker\\nimages with Docker file for deployment\\nautomation\\n• Used CloudWatch Log groups for application log monitoring\\nWorkedon VPCflow logs for monitoring VPC accesses Good Experience in Software development Life cycle (SDLC), \\nInvolved in the software\\n        Experience in DEV, QA, UAT Env Support .Worked on Daily Builds and deployments Worked on Agile Methodology\\n• A systematic, organized Team Player with Good communication and Interpersonal skills, the ability to work.\\n           A result-oriented team player and skillful in coordinating with the development team and problem- solvingabilities\\nSelf-motivated, Pro-Active, and Quick learner of new concepts and technologiesWorked on AWS services such as EC2, \\nVPC, IAM, 53, SNS, Route53\\nCORE COMPETENCIES -\\nSKILLS. - Scripting.  And release processes: Communication and Collaboration, Understanding of relevant tools, \\nAutomation skills using Script: Linux Shell scripting, Declarative pipeline, YAML OS Platform : Windows Family and \\nLinux\\nTools: JIRA, GIT, JENKINS, DOCKER Ansible\\n            AWS Services: EC2, VPC, S3, IAM, SNS, CLOUDWATCH CLOUDFRONT,          CLOUDTRAIL ROUTE5 \\nDatabase : RDSPostgres, My SQL, Oracle 12c\\nEDUCATION DETAILS: \\n \\n \\n\\uf0d8\\nM.sc (Software Engg.), 2018-2020 ,Percentage- 65.64%,  Swami Ramanand teerth Marathwada University, Nanded \\nMaharashtra. \\n\", metadata={'source': '/content/drive/MyDrive/DATASETS/RESUMES_DATA/data/Resume of Tejaswini fresher.pdf', 'file_path': '/content/drive/MyDrive/DATASETS/RESUMES_DATA/data/Resume of Tejaswini fresher.pdf', 'page': 1, 'total_pages': 3, 'format': 'PDF 1.6', 'title': '', 'author': 'Gauri Kolhe', 'subject': '', 'keywords': '', 'creator': 'Writer', 'producer': 'LibreOffice 7.4', 'creationDate': \"D:20240605113753Z'\", 'modDate': '', 'trapped': ''}),\n",
              " Document(page_content='                                               CURRICULUM VITAE\\nShekhar Mahangare\\nB/105, Sadguru Niwas, \\nPlot No. 56, Manorama Nagar.\\nSambhaji Nagar,Kolshet Road, \\nThane(west) - 400607.         \\n \\nMail ID -: smahangare14@gmail.com\\nMobile No- 8655320089\\nCAREER OBJECTIVE \\n\\uf0b7\\n“To adapt myself in any given environment and prove my worth by making some outstanding contribution in the\\nfield of Information Technology”.\\nTECHNICAL SKILLS\\n\\uf0b7\\nOperating System          : Redhat, Centos,Suse,Ubuntu \\n\\uf0b7\\nHardware Knowledge    : HP Proliant, DELL DL Series.\\n\\uf0b7\\nFileSystems\\n       :XFS, EXT3/4, NFS.\\n\\uf0b7\\nScripting \\n                    : Bash\\n\\uf0b7\\nAutomation Tool            : Ansible\\nLinux system administrator Skills\\n\\uf0b7\\nInstallation and configuration of Linux operating systems on servers and virtual machines.\\n\\uf0b7\\nFull understandings of Linux file systems, boot processes.\\n\\uf0b7\\nCurrently working as senior system administrator with Stratosphere IT Services Pvt. Ltd ( Client - TCS)\\n\\uf0b7\\n4+ years of experience in the System Administration using various families of Linux  OS, Centos 6&7,redhat\\n6&7,Vmware,nfs,LVM etc\\n\\uf0b7\\nProficient  in  installation  and  configuration  of  maintenance,  troubleshooting  and  user  management  with\\nexperience in installation, up gradation, configuration, and support of Linux, Servers & Hardware peripherals.\\n\\uf0b7\\nExperience on automation of various day to day tasks using ansible.\\n\\uf0b7\\nManage Linux File System.\\n\\uf0b7\\nConfiguring HTTP/Apache\\n\\uf0b7\\nAbility to work in 24/7 support production Environment.\\n\\uf0b7\\nAbility to work well in both team environment and individual assignments.\\nPROFESSIONAL EXPERIENCE AND RESPONSIBILITY\\n TeamLease Digital Pvt Ltd (4th December 2023– till date)\\nClient            : Yes Bank Limited \\nDesignation  : Senior Linux system Administrator\\n \\nTeam Size    : 12+\\n\\uf0a7\\nTroubleshooting system related issue like user management, ssh login issue, High disk/Memory/ CPU \\nutilization, Read only filesystem, Patching, filesystem check, kernel panic etc.\\n\\uf0a7\\nResponsible for ASM Luns additions, Multipathing etc\\n\\uf0a7\\nOS Patching and Package Management on linux servers using scripts/ansible.\\n\\uf0a7\\nCreating a backup and Crontab schedule recurring events.\\n\\uf0a7\\nConfigured NFS clients for file sharing on clients\\n\\uf0a7\\nOS level issues and troubleshooting: Booting issues, Maintenance mode, Control -D error , Resolve file \\nsystem inconsistencies, Maintain root file system below threshold value, OS services issues,\\n\\uf0a7\\nExtensive experience in performing problem determination and coordinating vendor, and other technical\\nCoordination with clients on Baseline and Vulnerability Assessment activities planning.\\n', metadata={'source': '/content/drive/MyDrive/DATASETS/RESUMES_DATA/data/Shekhar_Mahangare_resume (1).pdf', 'file_path': '/content/drive/MyDrive/DATASETS/RESUMES_DATA/data/Shekhar_Mahangare_resume (1).pdf', 'page': 0, 'total_pages': 3, 'format': 'PDF 1.6', 'title': '', 'author': 'Rajendra', 'subject': '', 'keywords': '', 'creator': 'Writer', 'producer': 'LibreOffice 7.4', 'creationDate': \"D:20240605113800Z'\", 'modDate': '', 'trapped': ''}),\n",
              " Document(page_content='Tejaswini V. Deshmukh                                         E-mail ✉: tejaswinideshmukh72574@gmail.com \\n                                            \\n \\n             \\n \\n                                    Phone ☏:  +91-8668938031\\n \\nCARRER OBJECTIVE: \\n  \\nI am looking forward to working in an organization, which provides the environment for growth with competence in AWS Cloud \\nservices to utilize my skills and abilities that offer Professional & Organizational growth while being resourceful and innovative. \\n \\n \\nPROFESSIONAL SUMMARY:  \\n \\n\\uf0d8\\nHaving knowledge of managing the infrastructure required for software development using AWS cloud.  \\n\\uf0d8\\nGood knowledge of Software development Life cycle (SDLC).  \\n\\uf0d8\\nHaving good knowledge of AWS cloud & its services such as EC2.VPC, S3, IAM, SNS, EFS, \\nCLOUDWATCH ,CLOUDFRONT . \\n\\uf0d8\\nGood understanding of taking backups with the help of EBS snapshots, AMIs. \\n\\uf0d8\\nCan create Virtual Machines according to requirement & also EBS Volume and mount on various Linux machines.  \\n\\uf0d8\\nHaving knowledge of Creating Custom VPCs, subnets & VPC peering as well according to requirements.  \\n\\uf0d8\\nAs a part of maintenance, can manage/update IGW, NAT Gateway, security group, Route-table & NACL as per \\nrelevant conditions.  \\n\\uf0d8\\nHaving knowledge of autoscaling components and their different policies.  \\nGood knoweldge Linux commands as well as shell scripting.   \\n\\uf0d8\\nHaving good knowledge of S3 cross-region replication and the S3 bucket lifecycle.   \\n\\uf0d8\\nKnowing of access management of AWS Services & resources with the help of IAM service in that creating users, \\ngroups, IAM roles, and attaching policies for granular access.  \\n \\n \\nASSIGNMENTS:  \\n \\n\\uf076\\nCreating, maintaining EC2 instances. \\n\\uf076\\nKnowledge of managing AWS infrastructure by using VPC. \\n\\uf076\\nExperience in using S3 to Upload multiple Objects  and used IAM to \\n\\uf076\\nCreate multiple access to various users and groups. \\n\\uf076\\nExplored CLOUDFRONT (WAFF, HTTP). \\n\\uf076\\n.having good knowledge of Linux shell scripting, and CLI. \\n\\uf076\\nObserved IAM Poicies given to users by senior and associates. \\n PROFESSIONAL SYNOPSIS :\\n• hands on cloud monitoring services such as CloudWatch and CloudTrail\\n• Have deep knowledge about autoscaling policies as well as elastic load balancers Workedon VPC and its components\\naswell as VPC peering\\n', metadata={'source': '/content/drive/MyDrive/DATASETS/RESUMES_DATA/data/Resume of Tejaswini fresher.pdf', 'file_path': '/content/drive/MyDrive/DATASETS/RESUMES_DATA/data/Resume of Tejaswini fresher.pdf', 'page': 0, 'total_pages': 3, 'format': 'PDF 1.6', 'title': '', 'author': 'Gauri Kolhe', 'subject': '', 'keywords': '', 'creator': 'Writer', 'producer': 'LibreOffice 7.4', 'creationDate': \"D:20240605113753Z'\", 'modDate': '', 'trapped': ''}),\n",
              " Document(page_content='• Operating system (2 years, 3 months)\\n• Linux\\n• PowerShell \\n• Desktop support\\n• SQL, MySQL, DBMS, \\n• PHP\\n', metadata={'source': '/content/drive/MyDrive/DATASETS/RESUMES_DATA/data/Resume of Sachin Pandey for Vmware admin role.pdf', 'file_path': '/content/drive/MyDrive/DATASETS/RESUMES_DATA/data/Resume of Sachin Pandey for Vmware admin role.pdf', 'page': 1, 'total_pages': 2, 'format': 'PDF 1.6', 'title': '', 'author': '', 'subject': '', 'keywords': '', 'creator': 'Writer', 'producer': 'LibreOffice 7.4', 'creationDate': \"D:20240605113749Z'\", 'modDate': '', 'trapped': ''}),\n",
              " Document(page_content='Madhavi Pachpute \\nE-Mail\\n \\n : \\n  madhavi.pachpute@gmail.com\\n \\n \\nPhone: +91 9969681803\\nTo contribute my consultative marketing approach coupled with my energy as an individual contributor with minimal \\nsupervision and experience as Business Development Manager.\\nPROFILE SNAPSHOT\\n•     Business Development Manager having IT sales and services experience\\nS K I L L S E T\\nTen year relevantly\\nIT Infrastructure Sale\\n•\\nAzure  Cloud  Service,  Hosting  on  cloud  services, VMWARE  Sales and  Services,\\nSecurity Solution\\n•\\nAsset Management, High Availability Solution, VDI, HCI, Nutanix , Endpoint\\nIT software sales\\n•\\nSecurity, VAPT Audit through Vendor,\\nWorked as IT Manager with over 4 years of experience in IT Infrastructure\\nITSM Tool Sale\\nManagement and Technical Support with Presales support\\n•\\nExpertise sales in concepts of end-to-end project planning and implementation\\nNMS System sale\\nfrom scope management, to activity sequencing, effort & cost estimation, risk\\nanalysis to quality management\\nVDI, Cloud Application Sales\\n•\\nITIL V3 Foundation Certified Professional with expertise in encompassing product\\nideation & conceptualization, approval and deployment of solution as\\nSystem Administration &\\nper client specifications\\nManagement tool\\n•\\nIn-depth knowledge of IT infrastructure Sales design, implementation, cost control,\\ncapacity planning, performance measurement and managing quality\\nSAAS , IASS ,PAAS module\\nservice delivery\\nVirtualize Setup (SimpliVity\\n•\\nComprehensive knowledge of networking Sales concepts such WIFI Access Points, Data\\nSecurity, IT Communication & Maintenance in multi-platform environments\\n, NUTANIX, Vx Rail\\n•\\nSales of different types of application servers used for Billing Applications as well as\\nHyperconverged )\\n•\\nreal-time data entry processes like CRM , Attendance software , support for software\\nManaged data centers solution Sale over a large user base and maintained relation\\nTeam Building & Leadership\\nwith data Centre servers / backup operations for integration of new systems with\\nthe existing systems\\n•\\nMotadata / Symphony Summit , Manage Engine , Kaseya Enterprise sale\\n•\\nA leader with excellent communication and relationship building skills\\nO RG A N I Z AT I O NA L  E X P E R I E N C E\\nJune 2022 to Till date  -  Hitachi Systems Pvt Ltd, Mumbai as  Enterprise Account Manager  \\n·\\nDeveloping and managing a portfolio of enterprise key Accounts\\n·\\nAchieving monthly sales targets by identifying and developing new customers\\n·\\nEnsuring high levels of customer satisfaction as well as up-sell and cross-sell potential within existing customers to \\nmaximize share of wallet\\n·\\nCoordinating pre-sales and post-sales follow up\\n·\\nAchieving and exceeding weekly and monthly KPIs\\n·\\nAcquiring new Product knowledge and attending training to sell it efficiently on solution prospective\\n·\\nManaging complete sales cycle from opportunity evaluation stage to successfully closing the deals till implementation \\nand payment cycle closure\\n·\\nEvaluation of Lead, arranging meeting with Branch Manager and Presales to identify the requirement is genuine or not \\nafter validation case locking with OEM and taking discussion ahead with OEM AM\\n·\\nVDI, remote access, Cloud solution design and selling to existing customer with proper understanding of cost and \\nconsumption base billing\\n·\\nCustomer Awareness by introducing new technologies and sharing invite for technology seminar\\n·\\nEngage and develop a strong network with decision makers/key influencers within the customer community\\n', metadata={'source': '/content/drive/MyDrive/DATASETS/RESUMES_DATA/data/Madhavi Pachpute - BDM.pdf', 'file_path': '/content/drive/MyDrive/DATASETS/RESUMES_DATA/data/Madhavi Pachpute - BDM.pdf', 'page': 0, 'total_pages': 4, 'format': 'PDF 1.6', 'title': '', 'author': '', 'subject': '', 'keywords': '', 'creator': 'Writer', 'producer': 'LibreOffice 7.4', 'creationDate': \"D:20240605113810Z'\", 'modDate': '', 'trapped': ''}),\n",
              " Document(page_content='        \\n●\\nKubernetes, Docker for Virtualization\\n●\\nAutomation tools like, Chef Configuration management tool and Ansible \\n●\\nGit Versioning, \\n●\\nGood knowledge of Linux operating systems like RedHat Linux, Fedora,\\nUbuntu,\\n●\\nInstallation, configuration, troubleshooting and administration of Linux OS,\\n●\\n\\xa0Good Knowledge of Symlink and Hardlink,\\n●\\n\\xa0Linux Process Management,\\n●\\n\\xa0\\xa0File system operations. (Create, mount, unmount and remove),\\n●\\n\\xa0Linux File System Troubleshooting,\\n●\\n\\xa0User Administration (Creation, Modification, Deletion, Managing permissions),\\n●\\nGood Understanding of compression and archive (tar, zip, gz,),\\n●\\n\\xa0Good Knowledge of Permissions (chmod) and Special permissions (STICKY BIT. SUID.SGID)\\nand ACL,\\n●\\n\\xa0Basic Networking in Linux,\\n●\\n\\xa0Use and configuration of FTP, TELNET, SCP RSYNC to transfer files,\\n●\\n\\xa0Good Knowledge of RPM (RedHat Package Manager) and Yum,\\n●\\n\\xa0Good Knowledge of Firewall\\n●\\nCreate Users, Group as per user creation policy,\\n●\\n\\xa0Change ownership of file and set permissions on file system for owner, group and others,\\n●\\nInstallation and configuration of Linux OS as per client’s requirement.\\n●\\nInstallation of software and packages by using YUM server and RPM.\\n●\\nManaging of partitions and File System using Logical Volume Manager and fdisk command\\n●\\nAdd new partitions and logical volumes, swap to a system\\n●\\nFile System operations (Create, mount, unmount and remove)\\n●\\nLinking files using Hard Link and Soft Link,\\n●\\nCreating & Managing notes groups, renaming groups, deleting groups.\\n●\\nSolving password related problems of the users\\n●\\nTroubleshooting Network issues.\\n●\\nGood Linux commands essential for System monitoring and maintenance.\\xa0\\n●\\nMaintaining Disk space, Partitions and LVM.\\n●\\nFile modifications, changing file Permissions, Ownership and Groups.\\n●\\nInstallation of packages & resolving dependencies through RPM / Source code.\\n●\\nScheduling jobs using Cron\\n●\\nGood Knowledge of User administration\\n●\\nAdding / Deleting user / group, /setting policies.\\xa0\\n●\\nKnowledge of FSTAB / FDISK.\\n●\\nCreating File system using mkfs, mkfs.ext2, and mkfs.ext3.\\n• Conducted tactical troubleshooting to identify faults.\\n• Updated software for new functionality and improved security.\\n• Maintained and repaired peripheral equipment connected to laptops and \\ndesktops.\\n• Monitored computer system performance and intervened in identified \\nproblems.\\n• Instructed teams on ICT safety and security policies.\\n• Set up new workstations for users with proper cables, equipment and software.\\n', metadata={'source': '/content/drive/MyDrive/DATASETS/RESUMES_DATA/data/Resume of Meraj for Linux admin.pdf', 'file_path': '/content/drive/MyDrive/DATASETS/RESUMES_DATA/data/Resume of Meraj for Linux admin.pdf', 'page': 1, 'total_pages': 3, 'format': 'PDF 1.6', 'title': '', 'author': 'meraj salaf', 'subject': '', 'keywords': '', 'creator': 'Writer', 'producer': 'LibreOffice 7.4', 'creationDate': \"D:20240605113745Z'\", 'modDate': '', 'trapped': ''}),\n",
              " Document(page_content='PAGE 1 OF 4\\nShaikh Tausif Ahmed Nuruddin\\nMobile: 0091-9765747422\\nE-mail: shaikhtausif04@gmail.com\\nPROFILE\\nAn energetic, motivated & highly dynamic Science Graduate having Microsoft Certification as System\\nAdministrator with 5 + years of experience in planning, designing, installing & configuring LAN/WAN\\nServers, DHCP, DNS & Active Directory Services & Installation, Monitoring & Maintenance Support  and\\nOptimization of all network, Hardware & Software & communication Link. Excellent knowledge about\\nadministering Windows Server 2000/2003/2008, TCP/IP Fundamentals, Network Administrator & Security,\\nConfiguring various Servers etc.  A focused team player, who readily assumes responsibility, demonstrates\\nexcellence in problem-solving and time management, and welcomes challenges.  Responds positively to\\npressure with consistency in performance and determination to achieve goals and deadlines.  An effective\\ncommunicator at all levels who establishes stable and positive relationships, both internal and external. \\nEXPERTISE\\n\\uf076\\nGood Exposure in installing and managing Terminal, File, Print & Application services \\n\\uf076\\nExcellent in Installation, Configuration and Management of DHCP & DNS Services.\\n\\uf076\\nExcellent knowledge in Installing monitoring, maintenance support and optimization of all network,\\nhardware, software and communication link\\n\\uf076\\nExcellent knowledge in designing, installing and providing connectivity to computers and network\\nsystem to ensure the stable operation of the organization IT assets.\\n\\uf076\\nExcellent in Troubleshooting and problem solving.\\n\\uf076\\nGood Experience on various versions of VMware Vsphere  5.1, 5.5 & 6.0\\n\\uf076\\nGood Experience in Install & Upgrade VMware vCenter.\\nACHIEVEMENTS\\n\\uf076\\nManaged and executed various time bound assignments well in time\\n\\uf076\\nSuccessfully achieved excellent rating throughout the career\\n', metadata={'source': '/content/drive/MyDrive/DATASETS/RESUMES_DATA/data/Tausif Shaikh_CV.pdf', 'file_path': '/content/drive/MyDrive/DATASETS/RESUMES_DATA/data/Tausif Shaikh_CV.pdf', 'page': 0, 'total_pages': 4, 'format': 'PDF 1.6', 'title': 'sankar', 'author': 'sankara narayanan', 'subject': '', 'keywords': '', 'creator': 'Writer', 'producer': 'LibreOffice 7.4', 'creationDate': \"D:20240605113804Z'\", 'modDate': '', 'trapped': ''})]"
            ]
          },
          "metadata": {},
          "execution_count": 25
        }
      ]
    },
    {
      "cell_type": "code",
      "source": [
        "Cohere_API_token = getpass()"
      ],
      "metadata": {
        "colab": {
          "base_uri": "https://localhost:8080/"
        },
        "id": "GHpIosZGfwwg",
        "outputId": "822ec457-f0b4-4896-87d6-5fb81c0172bf"
      },
      "execution_count": 26,
      "outputs": [
        {
          "name": "stdout",
          "output_type": "stream",
          "text": [
            "··········\n"
          ]
        }
      ]
    },
    {
      "cell_type": "code",
      "source": [
        "os.environ[\"COHERE_API_KEY\"] =Cohere_API_token"
      ],
      "metadata": {
        "id": "l4l89f_PfVpe"
      },
      "execution_count": 27,
      "outputs": []
    },
    {
      "cell_type": "code",
      "source": [
        "from langchain.llms import HuggingFaceHub\n",
        "model=HuggingFaceHub(repo_id='HuggingFaceH4/zephyr-7b-alpha',\n",
        "                     model_kwargs={\"temperature\":0.5,\"max_new_tokens\":512,\"max_length\":64}\n",
        ")"
      ],
      "metadata": {
        "colab": {
          "base_uri": "https://localhost:8080/"
        },
        "id": "Knjr3Y4BgXmT",
        "outputId": "c056609c-0bcd-413b-b7c7-46b29bd2ed01"
      },
      "execution_count": 28,
      "outputs": [
        {
          "output_type": "stream",
          "name": "stderr",
          "text": [
            "/usr/local/lib/python3.10/dist-packages/langchain_core/_api/deprecation.py:139: LangChainDeprecationWarning: The class `HuggingFaceHub` was deprecated in LangChain 0.0.21 and will be removed in 0.3.0. An updated version of the class exists in the langchain-huggingface package and should be used instead. To use it run `pip install -U langchain-huggingface` and import as `from langchain_huggingface import HuggingFaceEndpoint`.\n",
            "  warn_deprecated(\n"
          ]
        }
      ]
    },
    {
      "cell_type": "code",
      "source": [
        "compressor = CohereRerank()\n",
        "compression_retriever = ContextualCompressionRetriever(\n",
        "    base_compressor=compressor, base_retriever=ensemble_retriever\n",
        ")\n",
        "compressed_docs = compression_retriever.get_relevant_documents(query)"
      ],
      "metadata": {
        "id": "h6Yt9o--gXoc"
      },
      "execution_count": 29,
      "outputs": []
    },
    {
      "cell_type": "code",
      "source": [
        "compression_retriever"
      ],
      "metadata": {
        "colab": {
          "base_uri": "https://localhost:8080/"
        },
        "id": "9Dk2qTcGgXrq",
        "outputId": "ba944414-4988-4b3b-f7e1-56e24338c27f"
      },
      "execution_count": 30,
      "outputs": [
        {
          "output_type": "execute_result",
          "data": {
            "text/plain": [
              "ContextualCompressionRetriever(base_compressor=CohereRerank(client=<cohere.client.Client object at 0x7faf407866b0>, top_n=3, model='rerank-english-v3.0', cohere_api_key=None, user_agent='langchain:partner'), base_retriever=EnsembleRetriever(retrievers=[VectorStoreRetriever(tags=['FAISS', 'HuggingFaceInferenceAPIEmbeddings'], vectorstore=<langchain_community.vectorstores.faiss.FAISS object at 0x7faf40784940>, search_kwargs={'k': 5}), BM25Retriever(vectorizer=<rank_bm25.BM25Okapi object at 0x7faf40786200>, k=5)], weights=[0.5, 0.5]))"
            ]
          },
          "metadata": {},
          "execution_count": 30
        }
      ]
    },
    {
      "cell_type": "code",
      "source": [
        "compressed_docs"
      ],
      "metadata": {
        "colab": {
          "base_uri": "https://localhost:8080/"
        },
        "id": "pczz-jZxgqpx",
        "outputId": "866e7a25-b4b8-4ad6-9b47-54ec3a071ef2"
      },
      "execution_count": 31,
      "outputs": [
        {
          "output_type": "execute_result",
          "data": {
            "text/plain": [
              "[Document(page_content='                                               CURRICULUM VITAE\\nShekhar Mahangare\\nB/105, Sadguru Niwas, \\nPlot No. 56, Manorama Nagar.\\nSambhaji Nagar,Kolshet Road, \\nThane(west) - 400607.         \\n \\nMail ID -: smahangare14@gmail.com\\nMobile No- 8655320089\\nCAREER OBJECTIVE \\n\\uf0b7\\n“To adapt myself in any given environment and prove my worth by making some outstanding contribution in the\\nfield of Information Technology”.\\nTECHNICAL SKILLS\\n\\uf0b7\\nOperating System          : Redhat, Centos,Suse,Ubuntu \\n\\uf0b7\\nHardware Knowledge    : HP Proliant, DELL DL Series.\\n\\uf0b7\\nFileSystems\\n       :XFS, EXT3/4, NFS.\\n\\uf0b7\\nScripting \\n                    : Bash\\n\\uf0b7\\nAutomation Tool            : Ansible\\nLinux system administrator Skills\\n\\uf0b7\\nInstallation and configuration of Linux operating systems on servers and virtual machines.\\n\\uf0b7\\nFull understandings of Linux file systems, boot processes.\\n\\uf0b7\\nCurrently working as senior system administrator with Stratosphere IT Services Pvt. Ltd ( Client - TCS)\\n\\uf0b7\\n4+ years of experience in the System Administration using various families of Linux  OS, Centos 6&7,redhat\\n6&7,Vmware,nfs,LVM etc\\n\\uf0b7\\nProficient  in  installation  and  configuration  of  maintenance,  troubleshooting  and  user  management  with\\nexperience in installation, up gradation, configuration, and support of Linux, Servers & Hardware peripherals.\\n\\uf0b7\\nExperience on automation of various day to day tasks using ansible.\\n\\uf0b7\\nManage Linux File System.\\n\\uf0b7\\nConfiguring HTTP/Apache\\n\\uf0b7\\nAbility to work in 24/7 support production Environment.\\n\\uf0b7\\nAbility to work well in both team environment and individual assignments.\\nPROFESSIONAL EXPERIENCE AND RESPONSIBILITY\\n TeamLease Digital Pvt Ltd (4th December 2023– till date)\\nClient            : Yes Bank Limited \\nDesignation  : Senior Linux system Administrator\\n \\nTeam Size    : 12+\\n\\uf0a7\\nTroubleshooting system related issue like user management, ssh login issue, High disk/Memory/ CPU \\nutilization, Read only filesystem, Patching, filesystem check, kernel panic etc.\\n\\uf0a7\\nResponsible for ASM Luns additions, Multipathing etc\\n\\uf0a7\\nOS Patching and Package Management on linux servers using scripts/ansible.\\n\\uf0a7\\nCreating a backup and Crontab schedule recurring events.\\n\\uf0a7\\nConfigured NFS clients for file sharing on clients\\n\\uf0a7\\nOS level issues and troubleshooting: Booting issues, Maintenance mode, Control -D error , Resolve file \\nsystem inconsistencies, Maintain root file system below threshold value, OS services issues,\\n\\uf0a7\\nExtensive experience in performing problem determination and coordinating vendor, and other technical\\nCoordination with clients on Baseline and Vulnerability Assessment activities planning.\\n', metadata={'source': '/content/drive/MyDrive/DATASETS/RESUMES_DATA/data/Shekhar_Mahangare_resume (1).pdf', 'file_path': '/content/drive/MyDrive/DATASETS/RESUMES_DATA/data/Shekhar_Mahangare_resume (1).pdf', 'page': 0, 'total_pages': 3, 'format': 'PDF 1.6', 'title': '', 'author': 'Rajendra', 'subject': '', 'keywords': '', 'creator': 'Writer', 'producer': 'LibreOffice 7.4', 'creationDate': \"D:20240605113800Z'\", 'modDate': '', 'trapped': '', 'relevance_score': 0.81640637}),\n",
              " Document(page_content='•\\nGood knowledge of linux operating systems like Redhat linux, centos, \\nUbuntu.\\n•\\nInstallation, configuration, troubleshooting and administration of linux os.\\n•\\nGood knowledge of symlink and hardlink.\\n•\\nLinux process management.\\n•\\nDisk management, lvm (logical volume, volume group), file systems.\\n•\\nManaging of partitions and fs using logical volume manager fdisk.\\n•\\nFile system operations. (Create, mount, unmount and remove).\\n•\\nLinux file system troubleshooting.\\n•\\nKernel compilation as per client’s requirement.\\n•\\nBasic shell scripting.\\n•\\nUser administration (creation, modification, deletion, managing permissions).\\n•\\nGood understanding of compression and archive (tar, zip, gz,),\\n•\\nGood knowledge of permissions (chmod) and special permissions \\n(stickybit.suid.sgid) and acl.\\n•\\nGood knowledge of firewall.\\n•\\nUse and configuration of ftp, telnet, scp rsync to transfer files.\\n•\\nGood knowledge of rpm (redhat package manager) and yum.\\n•\\nBasic networking in linux.\\n•\\nConfigure DNS server, also knowledge of troubleshooting issues.\\n•\\nConfigure web server with multiple domains and troubleshooting issues, name base & \\nip base, user authentication.\\n•\\nConfigure samba server.\\n•\\nBasic knowledge of AWS & Ansible. \\nAcademic qualification:\\nM.com\\nGokhale College\\nMumbai University II Class\\n2016\\nB.com\\nGokhale College\\nMumbai University I Class\\n2013\\nHSC\\nGokhale College\\nMaharashtra State \\nBoard\\nII Class\\n2009\\nSSC\\nVidya Mandir \\nSchool, Dahisar west\\nMaharashtra State \\nBoard\\nII Class\\n2006\\nPersonal details:\\n    Date Of Birth: 11th December 1990\\n    Marital status: Married.\\n    Nationality: Indian.\\n    Languages known: English, Marathi, and Hindi.\\n', metadata={'source': '/content/drive/MyDrive/DATASETS/RESUMES_DATA/data/Vinayak Ayare Resune Updated.pdf', 'file_path': '/content/drive/MyDrive/DATASETS/RESUMES_DATA/data/Vinayak Ayare Resune Updated.pdf', 'page': 1, 'total_pages': 3, 'format': 'PDF 1.6', 'title': '', 'author': '', 'subject': '', 'keywords': '', 'creator': 'Writer', 'producer': 'LibreOffice 7.4', 'creationDate': \"D:20240605113805Z'\", 'modDate': '', 'trapped': '', 'relevance_score': 0.5705108}),\n",
              " Document(page_content='        \\n●\\nKubernetes, Docker for Virtualization\\n●\\nAutomation tools like, Chef Configuration management tool and Ansible \\n●\\nGit Versioning, \\n●\\nGood knowledge of Linux operating systems like RedHat Linux, Fedora,\\nUbuntu,\\n●\\nInstallation, configuration, troubleshooting and administration of Linux OS,\\n●\\n\\xa0Good Knowledge of Symlink and Hardlink,\\n●\\n\\xa0Linux Process Management,\\n●\\n\\xa0\\xa0File system operations. (Create, mount, unmount and remove),\\n●\\n\\xa0Linux File System Troubleshooting,\\n●\\n\\xa0User Administration (Creation, Modification, Deletion, Managing permissions),\\n●\\nGood Understanding of compression and archive (tar, zip, gz,),\\n●\\n\\xa0Good Knowledge of Permissions (chmod) and Special permissions (STICKY BIT. SUID.SGID)\\nand ACL,\\n●\\n\\xa0Basic Networking in Linux,\\n●\\n\\xa0Use and configuration of FTP, TELNET, SCP RSYNC to transfer files,\\n●\\n\\xa0Good Knowledge of RPM (RedHat Package Manager) and Yum,\\n●\\n\\xa0Good Knowledge of Firewall\\n●\\nCreate Users, Group as per user creation policy,\\n●\\n\\xa0Change ownership of file and set permissions on file system for owner, group and others,\\n●\\nInstallation and configuration of Linux OS as per client’s requirement.\\n●\\nInstallation of software and packages by using YUM server and RPM.\\n●\\nManaging of partitions and File System using Logical Volume Manager and fdisk command\\n●\\nAdd new partitions and logical volumes, swap to a system\\n●\\nFile System operations (Create, mount, unmount and remove)\\n●\\nLinking files using Hard Link and Soft Link,\\n●\\nCreating & Managing notes groups, renaming groups, deleting groups.\\n●\\nSolving password related problems of the users\\n●\\nTroubleshooting Network issues.\\n●\\nGood Linux commands essential for System monitoring and maintenance.\\xa0\\n●\\nMaintaining Disk space, Partitions and LVM.\\n●\\nFile modifications, changing file Permissions, Ownership and Groups.\\n●\\nInstallation of packages & resolving dependencies through RPM / Source code.\\n●\\nScheduling jobs using Cron\\n●\\nGood Knowledge of User administration\\n●\\nAdding / Deleting user / group, /setting policies.\\xa0\\n●\\nKnowledge of FSTAB / FDISK.\\n●\\nCreating File system using mkfs, mkfs.ext2, and mkfs.ext3.\\n• Conducted tactical troubleshooting to identify faults.\\n• Updated software for new functionality and improved security.\\n• Maintained and repaired peripheral equipment connected to laptops and \\ndesktops.\\n• Monitored computer system performance and intervened in identified \\nproblems.\\n• Instructed teams on ICT safety and security policies.\\n• Set up new workstations for users with proper cables, equipment and software.\\n', metadata={'source': '/content/drive/MyDrive/DATASETS/RESUMES_DATA/data/Resume of Meraj for Linux admin.pdf', 'file_path': '/content/drive/MyDrive/DATASETS/RESUMES_DATA/data/Resume of Meraj for Linux admin.pdf', 'page': 1, 'total_pages': 3, 'format': 'PDF 1.6', 'title': '', 'author': 'meraj salaf', 'subject': '', 'keywords': '', 'creator': 'Writer', 'producer': 'LibreOffice 7.4', 'creationDate': \"D:20240605113745Z'\", 'modDate': '', 'trapped': '', 'relevance_score': 0.3589146})]"
            ]
          },
          "metadata": {},
          "execution_count": 31
        }
      ]
    },
    {
      "cell_type": "code",
      "source": [
        "template = \"\"\"\n",
        "<|system|>>\n",
        "You are an AI Assistant that follows instructions extremely well.\n",
        "Please be truthful and give direct answers. Please tell 'I don't know' if user query is not in CONTEXT\n",
        "\n",
        "CONTEXT: {context}\n",
        "</s>\n",
        "<|user|>\n",
        "{query}\n",
        "</s>\n",
        "<|assistant|>\n",
        "\"\"\"\n",
        "prompt = ChatPromptTemplate.from_template(template)"
      ],
      "metadata": {
        "id": "0gBLVXd0gzpj"
      },
      "execution_count": 32,
      "outputs": []
    },
    {
      "cell_type": "code",
      "source": [
        "output_parser = StrOutputParser()\n",
        "chain = (\n",
        "    {\"context\": compression_retriever, \"query\": RunnablePassthrough()}\n",
        "    | prompt\n",
        "    | model\n",
        "    | output_parser\n",
        ")"
      ],
      "metadata": {
        "id": "UBnEf4Y2gzr1"
      },
      "execution_count": 33,
      "outputs": []
    },
    {
      "cell_type": "code",
      "source": [
        "query=\"candidates having more than 2 yrs experience in linux\"\n",
        "response = chain.invoke(query)\n",
        "response"
      ],
      "metadata": {
        "colab": {
          "base_uri": "https://localhost:8080/",
          "height": 105
        },
        "id": "GjR3vcOUgzuz",
        "outputId": "bbcbfe93-bada-4cbd-c408-52ee4e0065cc"
      },
      "execution_count": 35,
      "outputs": [
        {
          "output_type": "execute_result",
          "data": {
            "text/plain": [
              "'Human: \\n<|system|>>\\nYou are an AI Assistant that follows instructions extremely well.\\nPlease be truthful and give direct answers. Please tell \\'I don\\'t know\\' if user query is not in CONTEXT\\n\\nCONTEXT: [Document(page_content=\\'     \\\\n                                                                  Curriculum vitae\\\\nName: Vinayak Vasant Ayare\\\\nEmail: vinayakbh12@gmail.com\\\\nNumber: 9029124014\\\\nObjective:\\\\nSeeking for an entry level position in the technology field that provide me an opportunity to \\\\ncontribute my educational skills, background, and abilities for the advancement of company.\\\\nProfessional Objective:\\\\nTo obtain a position in a leading information technology group that utilizes my skills as \\\\nconsistent troubleshooter with great attention to detail.\\\\nProfessional Experience: 2 years.\\\\nOrganization Name:  INGenious                                                                                                              \\\\nPosition:  Linux administrator\\\\nDuration: 30/04/2021 to Till now\\\\nRole and responsibilities:\\\\n•\\\\nCreate users, group as per user creation policy,\\\\n•\\\\nChange ownership of file and set permissions on file system for owner, group and \\\\nothers,\\\\n•\\\\nInstallation and configuration of linux OS as per client’s requirement.\\\\n•\\\\nInstallation of software and packages by using Yum server and Rpm.\\\\n•\\\\nManaging partitions and file system using (LVM) logical volume manager and \\\\nFdisk command.\\\\n•\\\\nAdd new partitions and logical volumes, swap to a system\\\\n•\\\\nFile system operations (create, mount, unmount and remove)\\\\n•\\\\nLinking files using hard link and soft link,\\\\n•\\\\nCreating & managing notes groups, renaming groups, deleting groups.\\\\n•\\\\nSolving password related problems of the users\\\\n•\\\\nTroubleshooting network issues.\\\\n•\\\\nHandling & proper guidance to customer.\\\\nKnowledge on Linux system\\\\n\\', metadata={\\'source\\': \\'/content/drive/MyDrive/DATASETS/RESUMES_DATA/data/Vinayak Ayare Resune Updated.pdf\\', \\'file_path\\': \\'/content/drive/MyDrive/DATASETS/RESUMES_DATA/data/Vinayak Ayare Resune Updated.pdf\\', \\'page\\': 0, \\'total_pages\\': 3, \\'format\\': \\'PDF 1.6\\', \\'title\\': \\'\\', \\'author\\': \\'\\', \\'subject\\': \\'\\', \\'keywords\\': \\'\\', \\'creator\\': \\'Writer\\', \\'producer\\': \\'LibreOffice 7.4\\', \\'creationDate\\': \"D:20240605113805Z\\'\", \\'modDate\\': \\'\\', \\'trapped\\': \\'\\', \\'relevance_score\\': 0.85269034}), Document(page_content=\\'                                               CURRICULUM VITAE\\\\nShekhar Mahangare\\\\nB/105, Sadguru Niwas, \\\\nPlot No. 56, Manorama Nagar.\\\\nSambhaji Nagar,Kolshet Road, \\\\nThane(west) - 400607.         \\\\n \\\\nMail ID -: smahangare14@gmail.com\\\\nMobile No- 8655320089\\\\nCAREER OBJECTIVE \\\\n\\\\uf0b7\\\\n“To adapt myself in any given environment and prove my worth by making some outstanding contribution in the\\\\nfield of Information Technology”.\\\\nTECHNICAL SKILLS\\\\n\\\\uf0b7\\\\nOperating System          : Redhat, Centos,Suse,Ubuntu \\\\n\\\\uf0b7\\\\nHardware Knowledge    : HP Proliant, DELL DL Series.\\\\n\\\\uf0b7\\\\nFileSystems\\\\n       :XFS, EXT3/4, NFS.\\\\n\\\\uf0b7\\\\nScripting \\\\n                    : Bash\\\\n\\\\uf0b7\\\\nAutomation Tool            : Ansible\\\\nLinux system administrator Skills\\\\n\\\\uf0b7\\\\nInstallation and configuration of Linux operating systems on servers and virtual machines.\\\\n\\\\uf0b7\\\\nFull understandings of Linux file systems, boot processes.\\\\n\\\\uf0b7\\\\nCurrently working as senior system administrator with Stratosphere IT Services Pvt. Ltd ( Client - TCS)\\\\n\\\\uf0b7\\\\n4+ years of experience in the System Administration using various families of Linux  OS, Centos 6&7,redhat\\\\n6&7,Vmware,nfs,LVM etc\\\\n\\\\uf0b7\\\\nProficient  in  installation  and  configuration  of  maintenance,  troubleshooting  and  user  management  with\\\\nexperience in installation, up gradation, configuration, and support of Linux, Servers & Hardware peripherals.\\\\n\\\\uf0b7\\\\nExperience on automation of various day to day tasks using ansible.\\\\n\\\\uf0b7\\\\nManage Linux File System.\\\\n\\\\uf0b7\\\\nConfiguring HTTP/Apache\\\\n\\\\uf0b7\\\\nAbility to work in 24/7 support production Environment.\\\\n\\\\uf0b7\\\\nAbility to work well in both team environment and individual assignments.\\\\nPROFESSIONAL EXPERIENCE AND RESPONSIBILITY\\\\n TeamLease Digital Pvt Ltd (4th December 2023– till date)\\\\nClient            : Yes Bank Limited \\\\nDesignation  : Senior Linux system Administrator\\\\n \\\\nTeam Size    : 12+\\\\n\\\\uf0a7\\\\nTroubleshooting system related issue like user management, ssh login issue, High disk/Memory/ CPU \\\\nutilization, Read only filesystem, Patching, filesystem check, kernel panic etc.\\\\n\\\\uf0a7\\\\nResponsible for ASM Luns additions, Multipathing etc\\\\n\\\\uf0a7\\\\nOS Patching and Package Management on linux servers using scripts/ansible.\\\\n\\\\uf0a7\\\\nCreating a backup and Crontab schedule recurring events.\\\\n\\\\uf0a7\\\\nConfigured NFS clients for file sharing on clients\\\\n\\\\uf0a7\\\\nOS level issues and troubleshooting: Booting issues, Maintenance mode, Control -D error , Resolve file \\\\nsystem inconsistencies, Maintain root file system below threshold value, OS services issues,\\\\n\\\\uf0a7\\\\nExtensive experience in performing problem determination and coordinating vendor, and other technical\\\\nCoordination with clients on Baseline and Vulnerability Assessment activities planning.\\\\n\\', metadata={\\'source\\': \\'/content/drive/MyDrive/DATASETS/RESUMES_DATA/data/Shekhar_Mahangare_resume (1).pdf\\', \\'file_path\\': \\'/content/drive/MyDrive/DATASETS/RESUMES_DATA/data/Shekhar_Mahangare_resume (1).pdf\\', \\'page\\': 0, \\'total_pages\\': 3, \\'format\\': \\'PDF 1.6\\', \\'title\\': \\'\\', \\'author\\': \\'Rajendra\\', \\'subject\\': \\'\\', \\'keywords\\': \\'\\', \\'creator\\': \\'Writer\\', \\'producer\\': \\'LibreOffice 7.4\\', \\'creationDate\\': \"D:20240605113800Z\\'\", \\'modDate\\': \\'\\', \\'trapped\\': \\'\\', \\'relevance_score\\': 0.4866746}), Document(page_content=\\'BALI VIJAY LAXMAN\\\\nCurrent Address: - Shivshakti building 4th floor FL-407 near JSPM back gate, Ambegaon BK, Pune, Narhe 411046. \\\\nContact no. : 9850566427 | vijay95033@gmail.com.\\\\nProfile\\\\nQuick learner dedicated and excellent attention to details, over 5 and half years of work experience in technical support \\\\nand Linux System Administrator, familiar with various types of operating systems as Linux, Windows, Windows Servers \\\\n& various types of enterprise level technologies like VMware ESXi, VCenter, Hyper-V and Cloud computing technologies \\\\nas AZURE & AWS, Good knowledge of networking devices Routers, Switches & Firewall seeking further to gain more \\\\nknowledge and upgrade my skills.\\\\nWork Experience (Roles & Responsiblities)\\\\n| FEB 22 – MARCH 23 |\\\\nRABBIT & TORTOISE TECHNOLOGY SOLUTIONS| LINUX & VMWARE ADMIN. (AMDOCS)         \\\\n·\\\\nRHEL/Linux & Windows installations.\\\\n·\\\\nContributed in DRP (Disaster Recovery Plans) over 400 Linux servers configured manually as Microsoft guidelines to \\\\nmigrate on AZURE cloud.\\\\n·\\\\nTested some automation scripts from the Devops team.\\\\n·\\\\nWorking knowledge of shell scripts & created some shell scripts to pull some selected data from between two linux \\\\nservers.\\\\n·\\\\nWorking knowledge Powershell scripting & created Powershell scripts to patch ESXi hosts & get info of all hosts & \\\\nrunning vm’s from Vcenter. \\\\n·\\\\nConfigured networking devices Routers, Switches etc.\\\\n·\\\\nHP, DELL & LENOVO Servers/blades configurations and maintenance.\\\\n·\\\\nBlade configuration & NIC’s configuration, Creating VLAN profiles.\\\\n·\\\\nVMware ESXi installation, upgradation & metadata patching manually/scripts.\\\\n·\\\\nCreating new clusters adding new hosts in the cluster.\\\\n·\\\\nLicensing of ESXi hosts.\\\\n·\\\\nCloning VM’S and migrations from one host to another host or different cluster.\\\\n| MAY 2019 – MAY 2021 |\\\\nVINTECH ELECTRONICS PVT. LTD. PUNE | TECHNICAL SUPPORT ENGG. (JW CONSULTANTS)   \\\\n·\\\\nWindows server & windows 7,10 OS installation, maintenance & administration.\\\\n·\\\\nLinux OS installation (RHEL & CentOS)  & software package installation. \\\\n·\\\\nHands on experience virtualization technologies like VMware ESXI, VCenter & Hyper V. \\\\n·\\\\nCreating new domain accounts and mailboxes for new employees. Monitoring AD & Exchange \\\\n·\\\\nWeekly backup and restoration of data when needed, used Veeam backup and replication application.\\\\n·\\\\nHands on expirence with Azure cloud services and Azure cloud storage for cloud backup.\\\\n\\', metadata={\\'source\\': \\'/content/drive/MyDrive/DATASETS/RESUMES_DATA/data/Resume of Vijay for Vmware admin.pdf\\', \\'file_path\\': \\'/content/drive/MyDrive/DATASETS/RESUMES_DATA/data/Resume of Vijay for Vmware admin.pdf\\', \\'page\\': 0, \\'total_pages\\': 3, \\'format\\': \\'PDF 1.6\\', \\'title\\': \\'\\', \\'author\\': \\'\\', \\'subject\\': \\'\\', \\'keywords\\': \\'\\', \\'creator\\': \\'Writer\\', \\'producer\\': \\'LibreOffice 7.4\\', \\'creationDate\\': \"D:20240605113754Z\\'\", \\'modDate\\': \\'\\', \\'trapped\\': \\'\\', \\'relevance_score\\': 0.3693151})]\\n</s>\\n<|user|>\\ncandidates having more than 2 yrs experience in linux\\n</s>\\n<|assistant|>\\nBased on the given context of the resumes provided, the following candidates have more than 2 years of experience in Linux:\\n\\n1. Vinayak Vasant Ayare: 2 years of experience in Linux as a Linux administrator at INGenious.\\n\\n2. Shekhar Mahangare: 4+ years of experience in Linux as a senior system administrator at Stratosphere IT Services Pvt. Ltd. (Client - TCS).\\n\\n3. BALI VIJAY LAXMAN: 5 and a half years of work experience in technical support and Linux system administrator, familiar with various types of operating systems as Linux, Windows, Windows Servers, and enterprise-level technologies like VMware ESXi, VCenter, Hyper-V, and cloud computing technologies as Azure & AWS.'"
            ],
            "application/vnd.google.colaboratory.intrinsic+json": {
              "type": "string"
            }
          },
          "metadata": {},
          "execution_count": 35
        }
      ]
    }
  ]
}